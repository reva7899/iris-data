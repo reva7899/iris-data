{
 "cells": [
  {
   "cell_type": "code",
   "execution_count": 8,
   "id": "3585b4a4",
   "metadata": {},
   "outputs": [
    {
     "name": "stdout",
     "output_type": "stream",
     "text": [
      "Minkowski_dist=\t7.831\n",
      "t=0.5885245858923434,\tdf=6,\tcv=6.919082007155017e-17,\tp=0.577646798391219\n",
      "\n",
      "The Mahalanobish distance:  [101.37049109]\n"
     ]
    }
   ],
   "source": [
    "from math import*\n",
    "from decimal import Decimal\n",
    "import pandas as pd\n",
    "import statsmodels.api as sm\n",
    "import matplotlib.pyplot as plt\n",
    "import numpy as np\n",
    "from scipy import stats as sci\n",
    "import math\n",
    "\n",
    "def root(v,r):\n",
    "    r_v=1/float(r)\n",
    "    return round(Decimal(v)**\n",
    "                 Decimal(r_v),3)\n",
    "\n",
    "def minkowski_dist(v1,v2, ord_r):\n",
    "    return(root(sum(pow(abs(a-b),ord_r)\n",
    "                    for a,b in zip(v1,v2)),ord_r))\n",
    "\n",
    "def calculate_t_stat(X,Y):\n",
    "    #calculation of mean1\n",
    "    from scipy.stats import alpha\n",
    "    \n",
    "    mean1=sum(X)/len(X)\n",
    "    \n",
    "    #calculation of mean2\n",
    "    \n",
    "    mean2=sum(Y)/len(Y)\n",
    "    \n",
    "    se1=sci.sem(X, axis=None, ddof=0)\n",
    "    se2=sci.sem(Y, axis=None, ddof=0)\n",
    "    \n",
    "    #standard error on the difference between the samples\n",
    "    sed=math.sqrt(se1*2.0+se2*2.0)\n",
    "    \n",
    "    #calculate the t statistic\n",
    "    t_stat=(mean1-mean2)/sed\n",
    "    \n",
    "    #degrees of freedom\n",
    "    df=len(X)+len(Y)-2\n",
    "    \n",
    "    #calculte the critical value\n",
    "    cv=sci.t.ppf(1.0-0.5,df)\n",
    "    \n",
    "    #calculate the p-value\n",
    "    p=(1.0-sci.t.cdf(abs(t_stat),df))*2.0\n",
    "    print(\"t=\"+str(t_stat)+\",\\tdf=\"+str(df)+\",\\tcv=\"+str(cv)+\",\\tp=\"+str(p)+\"\\n\")\n",
    "    \n",
    "#input data\n",
    "vector1=[0,7.2,8.2,9.6]\n",
    "vector2=[6.6,4,3.7,5.5]\n",
    "p=3\n",
    "    \n",
    "#calculation of minkowski_dist\n",
    "print(\"Minkowski_dist=\\t\"+str(minkowski_dist(vector1,vector2,p)))\n",
    "\n",
    "#calculation of t_stat\n",
    "calculate_t_stat(vector1,vector2)\n",
    "\n",
    "#Calculation of Mahalanobish distance\n",
    "def mahalano_dist(vector1,vector2,covM):\n",
    "    m=np.mean(vector1,axis=0) #Mean  of the distribution\n",
    "    vector2Mm=vector2-m\n",
    "    invCoveM=np.linalg.inv(covM) # To get the inverse covariance matrix\n",
    "    np.set_printoptions(suppress=True)\n",
    "    tem1=np.dot(vector2Mm,invCoveM)\n",
    "    tem2=np.dot(tem1,np.transpose(vector2Mm))\n",
    "    MD=np.sqrt(tem2)\n",
    "    print(\"The Mahalanobish distance: \",np.reshape(MD,-1))\n",
    "    \n",
    "vector1=np.array([[1,100,10],[2,300,15],[4,200,20],[2,600,10],[5,100,3,]])\n",
    "vector2=np.array([[154,900,80]]) #input for vector2\n",
    "vector1_Transpose=np.transpose(vector1)\n",
    "covM=np.cov(vector1_Transpose, bias=False) #To get the covariance matrix\n",
    "mahalano_dist(vector1,vector2,covM)\n"
   ]
  },
  {
   "cell_type": "code",
   "execution_count": null,
   "id": "34c17e9b",
   "metadata": {},
   "outputs": [],
   "source": []
  },
  {
   "cell_type": "code",
   "execution_count": null,
   "id": "2c9f0f8c",
   "metadata": {},
   "outputs": [],
   "source": []
  }
 ],
 "metadata": {
  "kernelspec": {
   "display_name": "Python 3 (ipykernel)",
   "language": "python",
   "name": "python3"
  },
  "language_info": {
   "codemirror_mode": {
    "name": "ipython",
    "version": 3
   },
   "file_extension": ".py",
   "mimetype": "text/x-python",
   "name": "python",
   "nbconvert_exporter": "python",
   "pygments_lexer": "ipython3",
   "version": "3.9.7"
  }
 },
 "nbformat": 4,
 "nbformat_minor": 5
}
